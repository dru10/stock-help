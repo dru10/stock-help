{
 "cells": [
  {
   "cell_type": "code",
   "execution_count": 1,
   "metadata": {},
   "outputs": [],
   "source": [
    "import sys\n",
    "import os\n",
    "sys.path.append(os.path.split(os.getcwd())[0])"
   ]
  },
  {
   "cell_type": "code",
   "execution_count": 2,
   "metadata": {},
   "outputs": [],
   "source": [
    "from src import dataset\n",
    "from src.models import DNN, LSTM, GRU\n",
    "\n",
    "import torch\n",
    "import torch.nn as nn\n",
    "from torch.utils.data import DataLoader, TensorDataset"
   ]
  },
  {
   "cell_type": "code",
   "execution_count": 3,
   "metadata": {},
   "outputs": [],
   "source": [
    "device = torch.device(\"cuda\" if torch.cuda.is_available() else \"cpu\")"
   ]
  },
  {
   "cell_type": "code",
   "execution_count": 4,
   "metadata": {},
   "outputs": [],
   "source": [
    "symbol = \"^SPX\""
   ]
  },
  {
   "cell_type": "code",
   "execution_count": 5,
   "metadata": {},
   "outputs": [],
   "source": [
    "ds = dataset.create_dataset(symbol)"
   ]
  },
  {
   "cell_type": "code",
   "execution_count": 6,
   "metadata": {},
   "outputs": [
    {
     "name": "stdout",
     "output_type": "stream",
     "text": [
      "(2748, 20)\n",
      "(2748,)\n"
     ]
    }
   ],
   "source": [
    "x_train, y_train = ds[\"train\"][\"X\"], ds[\"train\"][\"Y\"]\n",
    "print(x_train.shape)\n",
    "print(y_train.shape)"
   ]
  },
  {
   "cell_type": "code",
   "execution_count": 7,
   "metadata": {},
   "outputs": [],
   "source": [
    "batch_size = 4\n",
    "lags = 5"
   ]
  },
  {
   "cell_type": "code",
   "execution_count": 8,
   "metadata": {},
   "outputs": [],
   "source": [
    "x_train = torch.tensor(x_train[:, :lags], dtype=torch.float32)\n",
    "y_train = torch.tensor(y_train, dtype=torch.float32).unsqueeze(1)"
   ]
  },
  {
   "cell_type": "code",
   "execution_count": 9,
   "metadata": {},
   "outputs": [],
   "source": [
    "model = LSTM(input_shape=x_train.shape[1]).to(device)"
   ]
  },
  {
   "cell_type": "code",
   "execution_count": 10,
   "metadata": {},
   "outputs": [],
   "source": [
    "criterion = nn.BCELoss()\n",
    "\n",
    "# Adam optimizer\n",
    "optimizer = torch.optim.Adam(model.parameters(), lr=0.001)"
   ]
  },
  {
   "cell_type": "code",
   "execution_count": 11,
   "metadata": {},
   "outputs": [],
   "source": [
    "train_loader = DataLoader(TensorDataset(x_train, y_train), batch_size=batch_size, shuffle=False)"
   ]
  },
  {
   "cell_type": "code",
   "execution_count": 12,
   "metadata": {},
   "outputs": [],
   "source": [
    "for input, label in train_loader:\n",
    "    break"
   ]
  },
  {
   "cell_type": "code",
   "execution_count": 13,
   "metadata": {},
   "outputs": [
    {
     "data": {
      "text/plain": [
       "torch.Size([4, 5])"
      ]
     },
     "execution_count": 13,
     "metadata": {},
     "output_type": "execute_result"
    }
   ],
   "source": [
    "input.shape"
   ]
  },
  {
   "cell_type": "code",
   "execution_count": 14,
   "metadata": {},
   "outputs": [],
   "source": [
    "X = input.to(device)\n",
    "y_true = label.to(device)\n",
    "\n",
    "optimizer.zero_grad()"
   ]
  },
  {
   "cell_type": "code",
   "execution_count": 15,
   "metadata": {},
   "outputs": [
    {
     "name": "stdout",
     "output_type": "stream",
     "text": [
      "LSTM(\n",
      "  (net): Sequential(\n",
      "    (0): Linear(in_features=32, out_features=16, bias=True)\n",
      "    (1): Dropout(p=0.2, inplace=False)\n",
      "    (2): Linear(in_features=16, out_features=1, bias=True)\n",
      "  )\n",
      "  (reccurent): ModuleList(\n",
      "    (0): LSTM(5, 32, num_layers=2, dropout=0.2)\n",
      "    (1): LSTM(32, 32, num_layers=2, dropout=0.2)\n",
      "  )\n",
      "  (dropout): Dropout(p=0.2, inplace=False)\n",
      "  (sigmoid): Sigmoid()\n",
      ")\n"
     ]
    }
   ],
   "source": [
    "print(model)"
   ]
  },
  {
   "cell_type": "code",
   "execution_count": 16,
   "metadata": {},
   "outputs": [
    {
     "data": {
      "text/plain": [
       "(tensor([[-0.1922,  0.0478, -0.0189, -0.0098,  0.0178,  0.0737, -0.0291,  0.0385,\n",
       "           0.0727, -0.0542,  0.0361, -0.0606,  0.0439,  0.0045,  0.1584, -0.0224,\n",
       "          -0.1351, -0.0200,  0.0760, -0.2726,  0.1285,  0.0996,  0.0012, -0.0150,\n",
       "          -0.1155,  0.0003, -0.0674,  0.0784,  0.1259, -0.1522, -0.1641,  0.1647],\n",
       "         [ 0.0861,  0.0035,  0.0583,  0.1055, -0.0346,  0.0332,  0.0051,  0.0313,\n",
       "          -0.1028, -0.0722,  0.0339,  0.0271, -0.0599,  0.0008,  0.0038, -0.0352,\n",
       "          -0.0367,  0.1260,  0.0562,  0.0473,  0.0610,  0.0524, -0.0411, -0.0632,\n",
       "           0.0482, -0.1045,  0.1444, -0.1712,  0.0453, -0.1188,  0.0973, -0.0153]],\n",
       "        device='cuda:0', grad_fn=<SqueezeBackward1>),\n",
       " tensor([[-3.6044e-01,  1.1729e-01, -3.5200e-02, -2.1730e-02,  3.5623e-02,\n",
       "           1.7167e-01, -6.4276e-02,  8.3575e-02,  1.8222e-01, -1.4028e-01,\n",
       "           7.8848e-02, -1.1623e-01,  8.1784e-02,  8.5280e-03,  2.9741e-01,\n",
       "          -3.9674e-02, -2.7022e-01, -3.6582e-02,  1.7450e-01, -5.5379e-01,\n",
       "           2.9303e-01,  1.6602e-01,  2.4464e-03, -3.0171e-02, -2.2103e-01,\n",
       "           5.2504e-04, -1.5188e-01,  1.4087e-01,  3.4117e-01, -3.3163e-01,\n",
       "          -3.5850e-01,  3.2294e-01],\n",
       "         [ 1.6092e-01,  8.2632e-03,  1.2051e-01,  2.0464e-01, -6.6784e-02,\n",
       "           5.9202e-02,  1.0648e-02,  6.1937e-02, -1.8219e-01, -1.5395e-01,\n",
       "           7.1062e-02,  5.2601e-02, -1.4617e-01,  1.8654e-03,  8.3337e-03,\n",
       "          -7.6483e-02, -6.8148e-02,  2.4225e-01,  1.2041e-01,  9.1179e-02,\n",
       "           1.3794e-01,  1.0214e-01, -8.1104e-02, -1.3885e-01,  1.0031e-01,\n",
       "          -2.3286e-01,  3.2564e-01, -3.7199e-01,  9.3692e-02, -2.7546e-01,\n",
       "           2.4609e-01, -3.6131e-02]], device='cuda:0',\n",
       "        grad_fn=<SqueezeBackward1>))"
      ]
     },
     "execution_count": 16,
     "metadata": {},
     "output_type": "execute_result"
    }
   ],
   "source": [
    "model(X)\n",
    "model.hidden"
   ]
  },
  {
   "cell_type": "code",
   "execution_count": 19,
   "metadata": {},
   "outputs": [
    {
     "name": "stdout",
     "output_type": "stream",
     "text": [
      "tensor([[-0.1922,  0.0478, -0.0189, -0.0098,  0.0178,  0.0737, -0.0291,  0.0385,\n",
      "          0.0727, -0.0542,  0.0361, -0.0606,  0.0439,  0.0045,  0.1584, -0.0224,\n",
      "         -0.1351, -0.0200,  0.0760, -0.2726,  0.1285,  0.0996,  0.0012, -0.0150,\n",
      "         -0.1155,  0.0003, -0.0674,  0.0784,  0.1259, -0.1522, -0.1641,  0.1647],\n",
      "        [ 0.0861,  0.0035,  0.0583,  0.1055, -0.0346,  0.0332,  0.0051,  0.0313,\n",
      "         -0.1028, -0.0722,  0.0339,  0.0271, -0.0599,  0.0008,  0.0038, -0.0352,\n",
      "         -0.0367,  0.1260,  0.0562,  0.0473,  0.0610,  0.0524, -0.0411, -0.0632,\n",
      "          0.0482, -0.1045,  0.1444, -0.1712,  0.0453, -0.1188,  0.0973, -0.0153]],\n",
      "       device='cuda:0')\n",
      "tensor([[-3.6044e-01,  1.1729e-01, -3.5200e-02, -2.1730e-02,  3.5623e-02,\n",
      "          1.7167e-01, -6.4276e-02,  8.3575e-02,  1.8222e-01, -1.4028e-01,\n",
      "          7.8848e-02, -1.1623e-01,  8.1784e-02,  8.5280e-03,  2.9741e-01,\n",
      "         -3.9674e-02, -2.7022e-01, -3.6582e-02,  1.7450e-01, -5.5379e-01,\n",
      "          2.9303e-01,  1.6602e-01,  2.4464e-03, -3.0171e-02, -2.2103e-01,\n",
      "          5.2504e-04, -1.5188e-01,  1.4087e-01,  3.4117e-01, -3.3163e-01,\n",
      "         -3.5850e-01,  3.2294e-01],\n",
      "        [ 1.6092e-01,  8.2632e-03,  1.2051e-01,  2.0464e-01, -6.6784e-02,\n",
      "          5.9202e-02,  1.0648e-02,  6.1937e-02, -1.8219e-01, -1.5395e-01,\n",
      "          7.1062e-02,  5.2601e-02, -1.4617e-01,  1.8654e-03,  8.3337e-03,\n",
      "         -7.6483e-02, -6.8148e-02,  2.4225e-01,  1.2041e-01,  9.1179e-02,\n",
      "          1.3794e-01,  1.0214e-01, -8.1104e-02, -1.3885e-01,  1.0031e-01,\n",
      "         -2.3286e-01,  3.2564e-01, -3.7199e-01,  9.3692e-02, -2.7546e-01,\n",
      "          2.4609e-01, -3.6131e-02]], device='cuda:0')\n"
     ]
    }
   ],
   "source": [
    "for state in model.hidden:\n",
    "    print(state.data)"
   ]
  },
  {
   "cell_type": "code",
   "execution_count": 52,
   "metadata": {},
   "outputs": [],
   "source": [
    "model.reset_hidden()"
   ]
  },
  {
   "cell_type": "code",
   "execution_count": 54,
   "metadata": {},
   "outputs": [],
   "source": [
    "model.hidden"
   ]
  },
  {
   "cell_type": "code",
   "execution_count": null,
   "metadata": {},
   "outputs": [],
   "source": []
  }
 ],
 "metadata": {
  "kernelspec": {
   "display_name": "venv",
   "language": "python",
   "name": "python3"
  },
  "language_info": {
   "codemirror_mode": {
    "name": "ipython",
    "version": 3
   },
   "file_extension": ".py",
   "mimetype": "text/x-python",
   "name": "python",
   "nbconvert_exporter": "python",
   "pygments_lexer": "ipython3",
   "version": "3.8.10"
  }
 },
 "nbformat": 4,
 "nbformat_minor": 2
}
