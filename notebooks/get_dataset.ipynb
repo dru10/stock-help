{
 "cells": [
  {
   "cell_type": "code",
   "execution_count": 1,
   "metadata": {},
   "outputs": [],
   "source": [
    "import pandas_datareader.data as web\n",
    "import numpy as np\n",
    "import matplotlib.pyplot as plt\n",
    "\n",
    "from statsmodels.tsa.stattools import adfuller\n",
    "\n",
    "plt.style.use('fivethirtyeight')"
   ]
  },
  {
   "cell_type": "code",
   "execution_count": 2,
   "metadata": {},
   "outputs": [],
   "source": [
    "# symbol = \"^SPX\"\n",
    "symbol = \"^DAX\"\n",
    "units = {\"^SPX\": \"USD ($)\", \"^DAX\": \"EUR (€)\"}"
   ]
  },
  {
   "cell_type": "code",
   "execution_count": 3,
   "metadata": {},
   "outputs": [],
   "source": [
    "df = web.DataReader(symbol, \"stooq\", start=\"2011-01-01\", end=\"2023-12-31\").iloc[::-1]"
   ]
  },
  {
   "cell_type": "code",
   "execution_count": 4,
   "metadata": {},
   "outputs": [],
   "source": [
    "df = df.filter(['Close'])\n",
    "df.dropna(inplace=True)"
   ]
  },
  {
   "cell_type": "code",
   "execution_count": 5,
   "metadata": {},
   "outputs": [
    {
     "data": {
      "text/html": [
       "<div>\n",
       "<style scoped>\n",
       "    .dataframe tbody tr th:only-of-type {\n",
       "        vertical-align: middle;\n",
       "    }\n",
       "\n",
       "    .dataframe tbody tr th {\n",
       "        vertical-align: top;\n",
       "    }\n",
       "\n",
       "    .dataframe thead th {\n",
       "        text-align: right;\n",
       "    }\n",
       "</style>\n",
       "<table border=\"1\" class=\"dataframe\">\n",
       "  <thead>\n",
       "    <tr style=\"text-align: right;\">\n",
       "      <th></th>\n",
       "      <th>Close</th>\n",
       "    </tr>\n",
       "    <tr>\n",
       "      <th>Date</th>\n",
       "      <th></th>\n",
       "    </tr>\n",
       "  </thead>\n",
       "  <tbody>\n",
       "    <tr>\n",
       "      <th>2011-01-03</th>\n",
       "      <td>6989.74</td>\n",
       "    </tr>\n",
       "    <tr>\n",
       "      <th>2011-01-04</th>\n",
       "      <td>6975.35</td>\n",
       "    </tr>\n",
       "    <tr>\n",
       "      <th>2011-01-05</th>\n",
       "      <td>6939.82</td>\n",
       "    </tr>\n",
       "    <tr>\n",
       "      <th>2011-01-06</th>\n",
       "      <td>6981.39</td>\n",
       "    </tr>\n",
       "    <tr>\n",
       "      <th>2011-01-07</th>\n",
       "      <td>6947.84</td>\n",
       "    </tr>\n",
       "    <tr>\n",
       "      <th>...</th>\n",
       "      <td>...</td>\n",
       "    </tr>\n",
       "    <tr>\n",
       "      <th>2023-12-19</th>\n",
       "      <td>16744.41</td>\n",
       "    </tr>\n",
       "    <tr>\n",
       "      <th>2023-12-20</th>\n",
       "      <td>16733.05</td>\n",
       "    </tr>\n",
       "    <tr>\n",
       "      <th>2023-12-21</th>\n",
       "      <td>16687.42</td>\n",
       "    </tr>\n",
       "    <tr>\n",
       "      <th>2023-12-22</th>\n",
       "      <td>16706.18</td>\n",
       "    </tr>\n",
       "    <tr>\n",
       "      <th>2023-12-27</th>\n",
       "      <td>16742.07</td>\n",
       "    </tr>\n",
       "  </tbody>\n",
       "</table>\n",
       "<p>3297 rows × 1 columns</p>\n",
       "</div>"
      ],
      "text/plain": [
       "               Close\n",
       "Date                \n",
       "2011-01-03   6989.74\n",
       "2011-01-04   6975.35\n",
       "2011-01-05   6939.82\n",
       "2011-01-06   6981.39\n",
       "2011-01-07   6947.84\n",
       "...              ...\n",
       "2023-12-19  16744.41\n",
       "2023-12-20  16733.05\n",
       "2023-12-21  16687.42\n",
       "2023-12-22  16706.18\n",
       "2023-12-27  16742.07\n",
       "\n",
       "[3297 rows x 1 columns]"
      ]
     },
     "execution_count": 5,
     "metadata": {},
     "output_type": "execute_result"
    }
   ],
   "source": [
    "df"
   ]
  },
  {
   "cell_type": "code",
   "execution_count": 6,
   "metadata": {},
   "outputs": [
    {
     "data": {
      "text/html": [
       "<div>\n",
       "<style scoped>\n",
       "    .dataframe tbody tr th:only-of-type {\n",
       "        vertical-align: middle;\n",
       "    }\n",
       "\n",
       "    .dataframe tbody tr th {\n",
       "        vertical-align: top;\n",
       "    }\n",
       "\n",
       "    .dataframe thead th {\n",
       "        text-align: right;\n",
       "    }\n",
       "</style>\n",
       "<table border=\"1\" class=\"dataframe\">\n",
       "  <thead>\n",
       "    <tr style=\"text-align: right;\">\n",
       "      <th></th>\n",
       "      <th>Close</th>\n",
       "    </tr>\n",
       "    <tr>\n",
       "      <th>Date</th>\n",
       "      <th></th>\n",
       "    </tr>\n",
       "  </thead>\n",
       "  <tbody>\n",
       "    <tr>\n",
       "      <th>2011-01-03</th>\n",
       "      <td>6989.74</td>\n",
       "    </tr>\n",
       "    <tr>\n",
       "      <th>2011-01-04</th>\n",
       "      <td>6975.35</td>\n",
       "    </tr>\n",
       "    <tr>\n",
       "      <th>2011-01-05</th>\n",
       "      <td>6939.82</td>\n",
       "    </tr>\n",
       "    <tr>\n",
       "      <th>2011-01-06</th>\n",
       "      <td>6981.39</td>\n",
       "    </tr>\n",
       "    <tr>\n",
       "      <th>2011-01-07</th>\n",
       "      <td>6947.84</td>\n",
       "    </tr>\n",
       "    <tr>\n",
       "      <th>...</th>\n",
       "      <td>...</td>\n",
       "    </tr>\n",
       "    <tr>\n",
       "      <th>2023-12-19</th>\n",
       "      <td>16744.41</td>\n",
       "    </tr>\n",
       "    <tr>\n",
       "      <th>2023-12-20</th>\n",
       "      <td>16733.05</td>\n",
       "    </tr>\n",
       "    <tr>\n",
       "      <th>2023-12-21</th>\n",
       "      <td>16687.42</td>\n",
       "    </tr>\n",
       "    <tr>\n",
       "      <th>2023-12-22</th>\n",
       "      <td>16706.18</td>\n",
       "    </tr>\n",
       "    <tr>\n",
       "      <th>2023-12-27</th>\n",
       "      <td>16742.07</td>\n",
       "    </tr>\n",
       "  </tbody>\n",
       "</table>\n",
       "<p>3297 rows × 1 columns</p>\n",
       "</div>"
      ],
      "text/plain": [
       "               Close\n",
       "Date                \n",
       "2011-01-03   6989.74\n",
       "2011-01-04   6975.35\n",
       "2011-01-05   6939.82\n",
       "2011-01-06   6981.39\n",
       "2011-01-07   6947.84\n",
       "...              ...\n",
       "2023-12-19  16744.41\n",
       "2023-12-20  16733.05\n",
       "2023-12-21  16687.42\n",
       "2023-12-22  16706.18\n",
       "2023-12-27  16742.07\n",
       "\n",
       "[3297 rows x 1 columns]"
      ]
     },
     "execution_count": 6,
     "metadata": {},
     "output_type": "execute_result"
    }
   ],
   "source": [
    "df.dropna()"
   ]
  },
  {
   "cell_type": "code",
   "execution_count": 7,
   "metadata": {},
   "outputs": [
    {
     "data": {
      "text/html": [
       "<div>\n",
       "<style scoped>\n",
       "    .dataframe tbody tr th:only-of-type {\n",
       "        vertical-align: middle;\n",
       "    }\n",
       "\n",
       "    .dataframe tbody tr th {\n",
       "        vertical-align: top;\n",
       "    }\n",
       "\n",
       "    .dataframe thead th {\n",
       "        text-align: right;\n",
       "    }\n",
       "</style>\n",
       "<table border=\"1\" class=\"dataframe\">\n",
       "  <thead>\n",
       "    <tr style=\"text-align: right;\">\n",
       "      <th></th>\n",
       "      <th>Close</th>\n",
       "    </tr>\n",
       "    <tr>\n",
       "      <th>Date</th>\n",
       "      <th></th>\n",
       "    </tr>\n",
       "  </thead>\n",
       "  <tbody>\n",
       "    <tr>\n",
       "      <th>2011-01-04</th>\n",
       "      <td>-0.002061</td>\n",
       "    </tr>\n",
       "    <tr>\n",
       "      <th>2011-01-05</th>\n",
       "      <td>-0.005107</td>\n",
       "    </tr>\n",
       "    <tr>\n",
       "      <th>2011-01-06</th>\n",
       "      <td>0.005972</td>\n",
       "    </tr>\n",
       "    <tr>\n",
       "      <th>2011-01-07</th>\n",
       "      <td>-0.004817</td>\n",
       "    </tr>\n",
       "    <tr>\n",
       "      <th>2011-01-10</th>\n",
       "      <td>-0.013152</td>\n",
       "    </tr>\n",
       "    <tr>\n",
       "      <th>...</th>\n",
       "      <td>...</td>\n",
       "    </tr>\n",
       "    <tr>\n",
       "      <th>2023-12-19</th>\n",
       "      <td>0.005621</td>\n",
       "    </tr>\n",
       "    <tr>\n",
       "      <th>2023-12-20</th>\n",
       "      <td>-0.000679</td>\n",
       "    </tr>\n",
       "    <tr>\n",
       "      <th>2023-12-21</th>\n",
       "      <td>-0.002731</td>\n",
       "    </tr>\n",
       "    <tr>\n",
       "      <th>2023-12-22</th>\n",
       "      <td>0.001124</td>\n",
       "    </tr>\n",
       "    <tr>\n",
       "      <th>2023-12-27</th>\n",
       "      <td>0.002146</td>\n",
       "    </tr>\n",
       "  </tbody>\n",
       "</table>\n",
       "<p>3296 rows × 1 columns</p>\n",
       "</div>"
      ],
      "text/plain": [
       "               Close\n",
       "Date                \n",
       "2011-01-04 -0.002061\n",
       "2011-01-05 -0.005107\n",
       "2011-01-06  0.005972\n",
       "2011-01-07 -0.004817\n",
       "2011-01-10 -0.013152\n",
       "...              ...\n",
       "2023-12-19  0.005621\n",
       "2023-12-20 -0.000679\n",
       "2023-12-21 -0.002731\n",
       "2023-12-22  0.001124\n",
       "2023-12-27  0.002146\n",
       "\n",
       "[3296 rows x 1 columns]"
      ]
     },
     "execution_count": 7,
     "metadata": {},
     "output_type": "execute_result"
    }
   ],
   "source": [
    "log_rets = np.log(df / df.shift(1)).dropna()\n",
    "log_rets"
   ]
  },
  {
   "cell_type": "code",
   "execution_count": 18,
   "metadata": {},
   "outputs": [
    {
     "data": {
      "text/plain": [
       "Text(0.5, 1.0, '^DAX')"
      ]
     },
     "execution_count": 18,
     "metadata": {},
     "output_type": "execute_result"
    },
    {
     "data": {
      "image/png": "[encoded data removed]",
      "text/plain": [
       "<Figure size 1200x600 with 1 Axes>"
      ]
     },
     "metadata": {},
     "output_type": "display_data"
    }
   ],
   "source": [
    "plt.figure(figsize=(12,6))\n",
    "plt.plot(df)\n",
    "plt.xlabel(\"Date\")\n",
    "plt.ylabel(f\"Close Price {units[symbol]}\")\n",
    "plt.title(symbol)"
   ]
  },
  {
   "cell_type": "code",
   "execution_count": 9,
   "metadata": {},
   "outputs": [
    {
     "data": {
      "text/plain": [
       "Text(0.5, 1.0, '^DAX')"
      ]
     },
     "execution_count": 9,
     "metadata": {},
     "output_type": "execute_result"
    },
    {
     "data": {
      "image/png": "[encoded data removed]",
      "text/plain": [
       "<Figure size 640x480 with 1 Axes>"
      ]
     },
     "metadata": {},
     "output_type": "display_data"
    }
   ],
   "source": [
    "plt.figure()\n",
    "bins = plt.hist(log_rets, bins=100)\n",
    "plt.xlabel('Log returns')\n",
    "plt.ylabel('Count')\n",
    "plt.xlim([bins[1][0], -bins[1][0]])\n",
    "plt.title(symbol)"
   ]
  },
  {
   "cell_type": "code",
   "execution_count": 10,
   "metadata": {},
   "outputs": [
    {
     "data": {
      "text/plain": [
       "Close    0.000265\n",
       "dtype: float64"
      ]
     },
     "execution_count": 10,
     "metadata": {},
     "output_type": "execute_result"
    }
   ],
   "source": [
    "log_rets.mean()"
   ]
  },
  {
   "cell_type": "markdown",
   "metadata": {},
   "source": [
    "Volatitlity = variance\n",
    "\n",
    "the higher the volatility, the higher the expected returns"
   ]
  },
  {
   "cell_type": "code",
   "execution_count": 11,
   "metadata": {},
   "outputs": [
    {
     "data": {
      "text/plain": [
       "Close    0.012645\n",
       "dtype: float64"
      ]
     },
     "execution_count": 11,
     "metadata": {},
     "output_type": "execute_result"
    }
   ],
   "source": [
    "log_rets.std()"
   ]
  },
  {
   "cell_type": "markdown",
   "metadata": {},
   "source": [
    "# Test for stationarity"
   ]
  },
  {
   "cell_type": "code",
   "execution_count": 16,
   "metadata": {},
   "outputs": [
    {
     "data": {
      "text/plain": [
       "Text(0, 0.5, 'Log Returns')"
      ]
     },
     "execution_count": 16,
     "metadata": {},
     "output_type": "execute_result"
    },
    {
     "data": {
      "image/png": "[encoded data removed]",
      "text/plain": [
       "<Figure size 640x480 with 1 Axes>"
      ]
     },
     "metadata": {},
     "output_type": "display_data"
    }
   ],
   "source": [
    "plt.figure()\n",
    "plt.plot(log_rets.index, log_rets)\n",
    "plt.title(symbol)\n",
    "plt.xlabel('Date')\n",
    "plt.ylabel('Log Returns')"
   ]
  },
  {
   "cell_type": "code",
   "execution_count": 32,
   "metadata": {},
   "outputs": [
    {
     "data": {
      "text/plain": [
       "(-1.0949315319773822,\n",
       " 0.7170889132981776,\n",
       " 0,\n",
       " 3294,\n",
       " {'1%': -3.4323367648004606,\n",
       "  '5%': -2.8624178351722858,\n",
       "  '10%': -2.5672372898489977},\n",
       " 41327.114766170875)"
      ]
     },
     "execution_count": 32,
     "metadata": {},
     "output_type": "execute_result"
    }
   ],
   "source": [
    "adfuller(df)"
   ]
  },
  {
   "cell_type": "code",
   "execution_count": 33,
   "metadata": {},
   "outputs": [
    {
     "data": {
      "text/plain": [
       "(-16.96099105766896,\n",
       " 9.308767933452696e-30,\n",
       " 10,\n",
       " 3283,\n",
       " {'1%': -3.432343426858439,\n",
       "  '5%': -2.8624207777608968,\n",
       "  '10%': -2.567238856417868},\n",
       " -19248.957658318275)"
      ]
     },
     "execution_count": 33,
     "metadata": {},
     "output_type": "execute_result"
    }
   ],
   "source": [
    "adfuller(log_rets)"
   ]
  },
  {
   "cell_type": "markdown",
   "metadata": {},
   "source": [
    "# Add lags"
   ]
  },
  {
   "cell_type": "code",
   "execution_count": 34,
   "metadata": {},
   "outputs": [],
   "source": [
    "def add_lags(df, lags=20):\n",
    "    cols = []\n",
    "    new_df = df.copy(deep=True)\n",
    "    for lag in range(1, lags + 1):\n",
    "        col = f\"lag_{lag}\"\n",
    "        new_df[col] = df.shift(lag)\n",
    "        cols.append(col)\n",
    "    new_df.dropna(inplace=True)\n",
    "    return new_df, cols"
   ]
  },
  {
   "cell_type": "code",
   "execution_count": 35,
   "metadata": {},
   "outputs": [],
   "source": [
    "lagged, cols = add_lags(log_rets)"
   ]
  },
  {
   "cell_type": "code",
   "execution_count": 36,
   "metadata": {},
   "outputs": [
    {
     "data": {
      "text/html": [
       "<div>\n",
       "<style scoped>\n",
       "    .dataframe tbody tr th:only-of-type {\n",
       "        vertical-align: middle;\n",
       "    }\n",
       "\n",
       "    .dataframe tbody tr th {\n",
       "        vertical-align: top;\n",
       "    }\n",
       "\n",
       "    .dataframe thead th {\n",
       "        text-align: right;\n",
       "    }\n",
       "</style>\n",
       "<table border=\"1\" class=\"dataframe\">\n",
       "  <thead>\n",
       "    <tr style=\"text-align: right;\">\n",
       "      <th></th>\n",
       "      <th>Close</th>\n",
       "      <th>lag_1</th>\n",
       "      <th>lag_2</th>\n",
       "      <th>lag_3</th>\n",
       "      <th>lag_4</th>\n",
       "      <th>lag_5</th>\n",
       "      <th>lag_6</th>\n",
       "      <th>lag_7</th>\n",
       "      <th>lag_8</th>\n",
       "      <th>lag_9</th>\n",
       "      <th>...</th>\n",
       "      <th>lag_11</th>\n",
       "      <th>lag_12</th>\n",
       "      <th>lag_13</th>\n",
       "      <th>lag_14</th>\n",
       "      <th>lag_15</th>\n",
       "      <th>lag_16</th>\n",
       "      <th>lag_17</th>\n",
       "      <th>lag_18</th>\n",
       "      <th>lag_19</th>\n",
       "      <th>lag_20</th>\n",
       "    </tr>\n",
       "    <tr>\n",
       "      <th>Date</th>\n",
       "      <th></th>\n",
       "      <th></th>\n",
       "      <th></th>\n",
       "      <th></th>\n",
       "      <th></th>\n",
       "      <th></th>\n",
       "      <th></th>\n",
       "      <th></th>\n",
       "      <th></th>\n",
       "      <th></th>\n",
       "      <th></th>\n",
       "      <th></th>\n",
       "      <th></th>\n",
       "      <th></th>\n",
       "      <th></th>\n",
       "      <th></th>\n",
       "      <th></th>\n",
       "      <th></th>\n",
       "      <th></th>\n",
       "      <th></th>\n",
       "      <th></th>\n",
       "    </tr>\n",
       "  </thead>\n",
       "  <tbody>\n",
       "    <tr>\n",
       "      <th>2011-02-01</th>\n",
       "      <td>0.014976</td>\n",
       "      <td>-0.003571</td>\n",
       "      <td>-0.007403</td>\n",
       "      <td>0.003953</td>\n",
       "      <td>0.009635</td>\n",
       "      <td>-0.001240</td>\n",
       "      <td>0.000757</td>\n",
       "      <td>0.005416</td>\n",
       "      <td>-0.008292</td>\n",
       "      <td>-0.008532</td>\n",
       "      <td>...</td>\n",
       "      <td>0.000333</td>\n",
       "      <td>0.000083</td>\n",
       "      <td>0.000895</td>\n",
       "      <td>0.018160</td>\n",
       "      <td>0.012249</td>\n",
       "      <td>-0.013152</td>\n",
       "      <td>-0.004817</td>\n",
       "      <td>0.005972</td>\n",
       "      <td>-0.005107</td>\n",
       "      <td>-0.002061</td>\n",
       "    </tr>\n",
       "    <tr>\n",
       "      <th>2011-02-02</th>\n",
       "      <td>-0.000084</td>\n",
       "      <td>0.014976</td>\n",
       "      <td>-0.003571</td>\n",
       "      <td>-0.007403</td>\n",
       "      <td>0.003953</td>\n",
       "      <td>0.009635</td>\n",
       "      <td>-0.001240</td>\n",
       "      <td>0.000757</td>\n",
       "      <td>0.005416</td>\n",
       "      <td>-0.008292</td>\n",
       "      <td>...</td>\n",
       "      <td>0.009196</td>\n",
       "      <td>0.000333</td>\n",
       "      <td>0.000083</td>\n",
       "      <td>0.000895</td>\n",
       "      <td>0.018160</td>\n",
       "      <td>0.012249</td>\n",
       "      <td>-0.013152</td>\n",
       "      <td>-0.004817</td>\n",
       "      <td>0.005972</td>\n",
       "      <td>-0.005107</td>\n",
       "    </tr>\n",
       "    <tr>\n",
       "      <th>2011-02-03</th>\n",
       "      <td>0.001392</td>\n",
       "      <td>-0.000084</td>\n",
       "      <td>0.014976</td>\n",
       "      <td>-0.003571</td>\n",
       "      <td>-0.007403</td>\n",
       "      <td>0.003953</td>\n",
       "      <td>0.009635</td>\n",
       "      <td>-0.001240</td>\n",
       "      <td>0.000757</td>\n",
       "      <td>0.005416</td>\n",
       "      <td>...</td>\n",
       "      <td>-0.008532</td>\n",
       "      <td>0.009196</td>\n",
       "      <td>0.000333</td>\n",
       "      <td>0.000083</td>\n",
       "      <td>0.000895</td>\n",
       "      <td>0.018160</td>\n",
       "      <td>0.012249</td>\n",
       "      <td>-0.013152</td>\n",
       "      <td>-0.004817</td>\n",
       "      <td>0.005972</td>\n",
       "    </tr>\n",
       "    <tr>\n",
       "      <th>2011-02-04</th>\n",
       "      <td>0.003127</td>\n",
       "      <td>0.001392</td>\n",
       "      <td>-0.000084</td>\n",
       "      <td>0.014976</td>\n",
       "      <td>-0.003571</td>\n",
       "      <td>-0.007403</td>\n",
       "      <td>0.003953</td>\n",
       "      <td>0.009635</td>\n",
       "      <td>-0.001240</td>\n",
       "      <td>0.000757</td>\n",
       "      <td>...</td>\n",
       "      <td>-0.008292</td>\n",
       "      <td>-0.008532</td>\n",
       "      <td>0.009196</td>\n",
       "      <td>0.000333</td>\n",
       "      <td>0.000083</td>\n",
       "      <td>0.000895</td>\n",
       "      <td>0.018160</td>\n",
       "      <td>0.012249</td>\n",
       "      <td>-0.013152</td>\n",
       "      <td>-0.004817</td>\n",
       "    </tr>\n",
       "    <tr>\n",
       "      <th>2011-02-07</th>\n",
       "      <td>0.009298</td>\n",
       "      <td>0.003127</td>\n",
       "      <td>0.001392</td>\n",
       "      <td>-0.000084</td>\n",
       "      <td>0.014976</td>\n",
       "      <td>-0.003571</td>\n",
       "      <td>-0.007403</td>\n",
       "      <td>0.003953</td>\n",
       "      <td>0.009635</td>\n",
       "      <td>-0.001240</td>\n",
       "      <td>...</td>\n",
       "      <td>0.005416</td>\n",
       "      <td>-0.008292</td>\n",
       "      <td>-0.008532</td>\n",
       "      <td>0.009196</td>\n",
       "      <td>0.000333</td>\n",
       "      <td>0.000083</td>\n",
       "      <td>0.000895</td>\n",
       "      <td>0.018160</td>\n",
       "      <td>0.012249</td>\n",
       "      <td>-0.013152</td>\n",
       "    </tr>\n",
       "    <tr>\n",
       "      <th>...</th>\n",
       "      <td>...</td>\n",
       "      <td>...</td>\n",
       "      <td>...</td>\n",
       "      <td>...</td>\n",
       "      <td>...</td>\n",
       "      <td>...</td>\n",
       "      <td>...</td>\n",
       "      <td>...</td>\n",
       "      <td>...</td>\n",
       "      <td>...</td>\n",
       "      <td>...</td>\n",
       "      <td>...</td>\n",
       "      <td>...</td>\n",
       "      <td>...</td>\n",
       "      <td>...</td>\n",
       "      <td>...</td>\n",
       "      <td>...</td>\n",
       "      <td>...</td>\n",
       "      <td>...</td>\n",
       "      <td>...</td>\n",
       "      <td>...</td>\n",
       "    </tr>\n",
       "    <tr>\n",
       "      <th>2023-12-15</th>\n",
       "      <td>-0.000047</td>\n",
       "      <td>-0.000825</td>\n",
       "      <td>-0.001531</td>\n",
       "      <td>-0.000160</td>\n",
       "      <td>0.002099</td>\n",
       "      <td>0.007801</td>\n",
       "      <td>-0.001649</td>\n",
       "      <td>0.007432</td>\n",
       "      <td>0.007794</td>\n",
       "      <td>0.000441</td>\n",
       "      <td>...</td>\n",
       "      <td>0.003025</td>\n",
       "      <td>0.010808</td>\n",
       "      <td>0.001646</td>\n",
       "      <td>-0.003946</td>\n",
       "      <td>0.002171</td>\n",
       "      <td>0.002310</td>\n",
       "      <td>0.003597</td>\n",
       "      <td>-0.000050</td>\n",
       "      <td>-0.001121</td>\n",
       "      <td>0.008361</td>\n",
       "    </tr>\n",
       "    <tr>\n",
       "      <th>2023-12-18</th>\n",
       "      <td>-0.006041</td>\n",
       "      <td>-0.000047</td>\n",
       "      <td>-0.000825</td>\n",
       "      <td>-0.001531</td>\n",
       "      <td>-0.000160</td>\n",
       "      <td>0.002099</td>\n",
       "      <td>0.007801</td>\n",
       "      <td>-0.001649</td>\n",
       "      <td>0.007432</td>\n",
       "      <td>0.007794</td>\n",
       "      <td>...</td>\n",
       "      <td>0.011167</td>\n",
       "      <td>0.003025</td>\n",
       "      <td>0.010808</td>\n",
       "      <td>0.001646</td>\n",
       "      <td>-0.003946</td>\n",
       "      <td>0.002171</td>\n",
       "      <td>0.002310</td>\n",
       "      <td>0.003597</td>\n",
       "      <td>-0.000050</td>\n",
       "      <td>-0.001121</td>\n",
       "    </tr>\n",
       "    <tr>\n",
       "      <th>2023-12-19</th>\n",
       "      <td>0.005621</td>\n",
       "      <td>-0.006041</td>\n",
       "      <td>-0.000047</td>\n",
       "      <td>-0.000825</td>\n",
       "      <td>-0.001531</td>\n",
       "      <td>-0.000160</td>\n",
       "      <td>0.002099</td>\n",
       "      <td>0.007801</td>\n",
       "      <td>-0.001649</td>\n",
       "      <td>0.007432</td>\n",
       "      <td>...</td>\n",
       "      <td>0.000441</td>\n",
       "      <td>0.011167</td>\n",
       "      <td>0.003025</td>\n",
       "      <td>0.010808</td>\n",
       "      <td>0.001646</td>\n",
       "      <td>-0.003946</td>\n",
       "      <td>0.002171</td>\n",
       "      <td>0.002310</td>\n",
       "      <td>0.003597</td>\n",
       "      <td>-0.000050</td>\n",
       "    </tr>\n",
       "    <tr>\n",
       "      <th>2023-12-20</th>\n",
       "      <td>-0.000679</td>\n",
       "      <td>0.005621</td>\n",
       "      <td>-0.006041</td>\n",
       "      <td>-0.000047</td>\n",
       "      <td>-0.000825</td>\n",
       "      <td>-0.001531</td>\n",
       "      <td>-0.000160</td>\n",
       "      <td>0.002099</td>\n",
       "      <td>0.007801</td>\n",
       "      <td>-0.001649</td>\n",
       "      <td>...</td>\n",
       "      <td>0.007794</td>\n",
       "      <td>0.000441</td>\n",
       "      <td>0.011167</td>\n",
       "      <td>0.003025</td>\n",
       "      <td>0.010808</td>\n",
       "      <td>0.001646</td>\n",
       "      <td>-0.003946</td>\n",
       "      <td>0.002171</td>\n",
       "      <td>0.002310</td>\n",
       "      <td>0.003597</td>\n",
       "    </tr>\n",
       "    <tr>\n",
       "      <th>2023-12-21</th>\n",
       "      <td>-0.002731</td>\n",
       "      <td>-0.000679</td>\n",
       "      <td>0.005621</td>\n",
       "      <td>-0.006041</td>\n",
       "      <td>-0.000047</td>\n",
       "      <td>-0.000825</td>\n",
       "      <td>-0.001531</td>\n",
       "      <td>-0.000160</td>\n",
       "      <td>0.002099</td>\n",
       "      <td>0.007801</td>\n",
       "      <td>...</td>\n",
       "      <td>0.007432</td>\n",
       "      <td>0.007794</td>\n",
       "      <td>0.000441</td>\n",
       "      <td>0.011167</td>\n",
       "      <td>0.003025</td>\n",
       "      <td>0.010808</td>\n",
       "      <td>0.001646</td>\n",
       "      <td>-0.003946</td>\n",
       "      <td>0.002171</td>\n",
       "      <td>0.002310</td>\n",
       "    </tr>\n",
       "  </tbody>\n",
       "</table>\n",
       "<p>3274 rows × 21 columns</p>\n",
       "</div>"
      ],
      "text/plain": [
       "               Close     lag_1     lag_2     lag_3     lag_4     lag_5  \\\n",
       "Date                                                                     \n",
       "2011-02-01  0.014976 -0.003571 -0.007403  0.003953  0.009635 -0.001240   \n",
       "2011-02-02 -0.000084  0.014976 -0.003571 -0.007403  0.003953  0.009635   \n",
       "2011-02-03  0.001392 -0.000084  0.014976 -0.003571 -0.007403  0.003953   \n",
       "2011-02-04  0.003127  0.001392 -0.000084  0.014976 -0.003571 -0.007403   \n",
       "2011-02-07  0.009298  0.003127  0.001392 -0.000084  0.014976 -0.003571   \n",
       "...              ...       ...       ...       ...       ...       ...   \n",
       "2023-12-15 -0.000047 -0.000825 -0.001531 -0.000160  0.002099  0.007801   \n",
       "2023-12-18 -0.006041 -0.000047 -0.000825 -0.001531 -0.000160  0.002099   \n",
       "2023-12-19  0.005621 -0.006041 -0.000047 -0.000825 -0.001531 -0.000160   \n",
       "2023-12-20 -0.000679  0.005621 -0.006041 -0.000047 -0.000825 -0.001531   \n",
       "2023-12-21 -0.002731 -0.000679  0.005621 -0.006041 -0.000047 -0.000825   \n",
       "\n",
       "               lag_6     lag_7     lag_8     lag_9  ...    lag_11    lag_12  \\\n",
       "Date                                                ...                       \n",
       "2011-02-01  0.000757  0.005416 -0.008292 -0.008532  ...  0.000333  0.000083   \n",
       "2011-02-02 -0.001240  0.000757  0.005416 -0.008292  ...  0.009196  0.000333   \n",
       "2011-02-03  0.009635 -0.001240  0.000757  0.005416  ... -0.008532  0.009196   \n",
       "2011-02-04  0.003953  0.009635 -0.001240  0.000757  ... -0.008292 -0.008532   \n",
       "2011-02-07 -0.007403  0.003953  0.009635 -0.001240  ...  0.005416 -0.008292   \n",
       "...              ...       ...       ...       ...  ...       ...       ...   \n",
       "2023-12-15 -0.001649  0.007432  0.007794  0.000441  ...  0.003025  0.010808   \n",
       "2023-12-18  0.007801 -0.001649  0.007432  0.007794  ...  0.011167  0.003025   \n",
       "2023-12-19  0.002099  0.007801 -0.001649  0.007432  ...  0.000441  0.011167   \n",
       "2023-12-20 -0.000160  0.002099  0.007801 -0.001649  ...  0.007794  0.000441   \n",
       "2023-12-21 -0.001531 -0.000160  0.002099  0.007801  ...  0.007432  0.007794   \n",
       "\n",
       "              lag_13    lag_14    lag_15    lag_16    lag_17    lag_18  \\\n",
       "Date                                                                     \n",
       "2011-02-01  0.000895  0.018160  0.012249 -0.013152 -0.004817  0.005972   \n",
       "2011-02-02  0.000083  0.000895  0.018160  0.012249 -0.013152 -0.004817   \n",
       "2011-02-03  0.000333  0.000083  0.000895  0.018160  0.012249 -0.013152   \n",
       "2011-02-04  0.009196  0.000333  0.000083  0.000895  0.018160  0.012249   \n",
       "2011-02-07 -0.008532  0.009196  0.000333  0.000083  0.000895  0.018160   \n",
       "...              ...       ...       ...       ...       ...       ...   \n",
       "2023-12-15  0.001646 -0.003946  0.002171  0.002310  0.003597 -0.000050   \n",
       "2023-12-18  0.010808  0.001646 -0.003946  0.002171  0.002310  0.003597   \n",
       "2023-12-19  0.003025  0.010808  0.001646 -0.003946  0.002171  0.002310   \n",
       "2023-12-20  0.011167  0.003025  0.010808  0.001646 -0.003946  0.002171   \n",
       "2023-12-21  0.000441  0.011167  0.003025  0.010808  0.001646 -0.003946   \n",
       "\n",
       "              lag_19    lag_20  \n",
       "Date                            \n",
       "2011-02-01 -0.005107 -0.002061  \n",
       "2011-02-02  0.005972 -0.005107  \n",
       "2011-02-03 -0.004817  0.005972  \n",
       "2011-02-04 -0.013152 -0.004817  \n",
       "2011-02-07  0.012249 -0.013152  \n",
       "...              ...       ...  \n",
       "2023-12-15 -0.001121  0.008361  \n",
       "2023-12-18 -0.000050 -0.001121  \n",
       "2023-12-19  0.003597 -0.000050  \n",
       "2023-12-20  0.002310  0.003597  \n",
       "2023-12-21  0.002171  0.002310  \n",
       "\n",
       "[3274 rows x 21 columns]"
      ]
     },
     "execution_count": 36,
     "metadata": {},
     "output_type": "execute_result"
    }
   ],
   "source": [
    "lagged"
   ]
  },
  {
   "cell_type": "code",
   "execution_count": 37,
   "metadata": {},
   "outputs": [],
   "source": [
    "weights = np.linalg.lstsq(lagged[cols], log_rets[-len(lagged):], rcond=-1)[0]"
   ]
  },
  {
   "cell_type": "code",
   "execution_count": 38,
   "metadata": {},
   "outputs": [
    {
     "data": {
      "text/plain": [
       "(20, 1)"
      ]
     },
     "execution_count": 38,
     "metadata": {},
     "output_type": "execute_result"
    }
   ],
   "source": [
    "weights.shape"
   ]
  },
  {
   "cell_type": "code",
   "execution_count": 39,
   "metadata": {},
   "outputs": [
    {
     "data": {
      "text/plain": [
       "Text(0, 0.5, 'Weight')"
      ]
     },
     "execution_count": 39,
     "metadata": {},
     "output_type": "execute_result"
    },
    {
     "data": {
      "image/png": "[encoded data removed]",
      "text/plain": [
       "<Figure size 640x480 with 1 Axes>"
      ]
     },
     "metadata": {},
     "output_type": "display_data"
    }
   ],
   "source": [
    "plt.figure()\n",
    "plt.bar([col.split('_')[1] for col in cols], weights.flatten())\n",
    "plt.title(f\"{symbol} Lag weight for OLS\")\n",
    "plt.xlabel(\"Number of lags\")\n",
    "plt.ylabel(\"Weight\")"
   ]
  },
  {
   "cell_type": "code",
   "execution_count": 47,
   "metadata": {},
   "outputs": [
    {
     "data": {
      "text/plain": [
       "array([[1, 0, 0, ..., 1, 0, 0],\n",
       "       [0, 1, 0, ..., 0, 1, 0],\n",
       "       [1, 0, 1, ..., 0, 0, 1],\n",
       "       ...,\n",
       "       [1, 0, 0, ..., 1, 1, 0],\n",
       "       [0, 1, 0, ..., 1, 1, 1],\n",
       "       [0, 0, 1, ..., 0, 1, 1]])"
      ]
     },
     "execution_count": 47,
     "metadata": {},
     "output_type": "execute_result"
    }
   ],
   "source": [
    "binaries = np.digitize(lagged, bins=[0])\n",
    "binaries"
   ]
  },
  {
   "cell_type": "code",
   "execution_count": 49,
   "metadata": {},
   "outputs": [
    {
     "data": {
      "text/plain": [
       "(3274, 21)"
      ]
     },
     "execution_count": 49,
     "metadata": {},
     "output_type": "execute_result"
    }
   ],
   "source": [
    "binaries.shape"
   ]
  },
  {
   "cell_type": "markdown",
   "metadata": {},
   "source": [
    "## Number of patters"
   ]
  },
  {
   "cell_type": "code",
   "execution_count": 48,
   "metadata": {},
   "outputs": [
    {
     "data": {
      "text/plain": [
       "1048576"
      ]
     },
     "execution_count": 48,
     "metadata": {},
     "output_type": "execute_result"
    }
   ],
   "source": [
    "2 ** len(cols)"
   ]
  },
  {
   "cell_type": "markdown",
   "metadata": {},
   "source": [
    "# Split into train and test"
   ]
  },
  {
   "cell_type": "code",
   "execution_count": 54,
   "metadata": {},
   "outputs": [
    {
     "data": {
      "text/plain": [
       "(3274,)"
      ]
     },
     "execution_count": 54,
     "metadata": {},
     "output_type": "execute_result"
    }
   ],
   "source": [
    "log_rets_close = np.array(lagged['Close'])\n",
    "log_rets_close.shape"
   ]
  },
  {
   "cell_type": "code",
   "execution_count": 63,
   "metadata": {},
   "outputs": [],
   "source": [
    "n_train = len(lagged.loc[:\"2022-01-01\"])"
   ]
  },
  {
   "cell_type": "code",
   "execution_count": 64,
   "metadata": {},
   "outputs": [],
   "source": [
    "n_valid = len(lagged.loc[\"2022-01-01\":\"2023-01-01\"])"
   ]
  },
  {
   "cell_type": "code",
   "execution_count": 65,
   "metadata": {},
   "outputs": [],
   "source": [
    "x_train = binaries[:n_train, 1:]\n",
    "y_train = binaries[:n_train, 0]\n",
    "log_train = log_rets_close[:n_train]\n",
    "\n",
    "x_valid = binaries[n_train:n_train+n_valid, 1:]\n",
    "y_valid = binaries[n_train:n_train+n_valid, 0]\n",
    "log_valid = log_rets_close[n_train:n_train+n_valid]\n",
    "\n",
    "x_test = binaries[n_train+n_valid:, 1:]\n",
    "y_test = binaries[n_train+n_valid:, 0]\n",
    "log_test = log_rets_close[n_train+n_valid:]"
   ]
  }
 ],
 "metadata": {
  "kernelspec": {
   "display_name": "venv",
   "language": "python",
   "name": "python3"
  },
  "language_info": {
   "codemirror_mode": {
    "name": "ipython",
    "version": 3
   },
   "file_extension": ".py",
   "mimetype": "text/x-python",
   "name": "python",
   "nbconvert_exporter": "python",
   "pygments_lexer": "ipython3",
   "version": "3.8.10"
  }
 },
 "nbformat": 4,
 "nbformat_minor": 2
}
