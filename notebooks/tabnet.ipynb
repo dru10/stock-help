{
 "cells": [
  {
   "cell_type": "code",
   "execution_count": 1,
   "metadata": {},
   "outputs": [],
   "source": [
    "import sys\n",
    "import os\n",
    "sys.path.append(os.path.split(os.getcwd())[0])"
   ]
  },
  {
   "cell_type": "code",
   "execution_count": 2,
   "metadata": {},
   "outputs": [
    {
     "name": "stderr",
     "output_type": "stream",
     "text": [
      "/home/horia/master_siva/dizertatie/repo/venv/lib/python3.8/site-packages/pytorch_tabnet/abstract_model.py:82: UserWarning: Device used : cuda\n",
      "  warnings.warn(f\"Device used : {self.device}\")\n"
     ]
    }
   ],
   "source": [
    "from pytorch_tabnet.tab_model import TabNetClassifier\n",
    "\n",
    "from src.dataset import create_dataset\n",
    "# from src.tabnet import ModelCheckpoint\n",
    "\n",
    "symbols = [\"^SPX\", \"^DAX\", \"^BET\"]\n",
    "symbol = symbols[0]\n",
    "\n",
    "ds = create_dataset(symbol)\n",
    "\n",
    "x_train, y_train = ds[\"train\"][\"X\"], ds[\"train\"][\"Y\"]\n",
    "x_valid, y_valid = ds[\"valid\"][\"X\"], ds[\"valid\"][\"Y\"]\n",
    "x_test, y_test = ds[\"test\"][\"X\"], ds[\"test\"][\"Y\"]\n",
    "\n",
    "model = TabNetClassifier()"
   ]
  },
  {
   "cell_type": "code",
   "execution_count": 3,
   "metadata": {},
   "outputs": [
    {
     "name": "stderr",
     "output_type": "stream",
     "text": [
      "/home/horia/master_siva/dizertatie/repo/venv/lib/python3.8/site-packages/pytorch_tabnet/abstract_model.py:687: UserWarning: No early stopping will be performed, last training weights will be used.\n",
      "  warnings.warn(wrn_msg)\n"
     ]
    },
    {
     "name": "stdout",
     "output_type": "stream",
     "text": [
      "epoch 0  | loss: 0.71532 | val_0_logloss: 0.69973 |  0:00:01s\n",
      "epoch 1  | loss: 0.69462 | val_0_logloss: 0.70585 |  0:00:01s\n",
      "epoch 2  | loss: 0.69337 | val_0_logloss: 0.70854 |  0:00:01s\n",
      "epoch 3  | loss: 0.69172 | val_0_logloss: 0.7047  |  0:00:01s\n",
      "epoch 4  | loss: 0.68413 | val_0_logloss: 0.70166 |  0:00:01s\n",
      "epoch 5  | loss: 0.6839  | val_0_logloss: 0.69956 |  0:00:01s\n",
      "epoch 6  | loss: 0.68765 | val_0_logloss: 0.69797 |  0:00:01s\n",
      "epoch 7  | loss: 0.68477 | val_0_logloss: 0.69962 |  0:00:01s\n",
      "epoch 8  | loss: 0.6856  | val_0_logloss: 0.7026  |  0:00:02s\n",
      "epoch 9  | loss: 0.68198 | val_0_logloss: 0.704   |  0:00:02s\n",
      "epoch 10 | loss: 0.68378 | val_0_logloss: 0.70592 |  0:00:02s\n",
      "epoch 11 | loss: 0.67968 | val_0_logloss: 0.70826 |  0:00:02s\n",
      "epoch 12 | loss: 0.67832 | val_0_logloss: 0.70835 |  0:00:02s\n",
      "epoch 13 | loss: 0.67922 | val_0_logloss: 0.70816 |  0:00:02s\n",
      "epoch 14 | loss: 0.67874 | val_0_logloss: 0.70705 |  0:00:02s\n",
      "epoch 15 | loss: 0.67797 | val_0_logloss: 0.70633 |  0:00:02s\n",
      "epoch 16 | loss: 0.67351 | val_0_logloss: 0.70416 |  0:00:02s\n",
      "epoch 17 | loss: 0.67549 | val_0_logloss: 0.70251 |  0:00:02s\n",
      "epoch 18 | loss: 0.67255 | val_0_logloss: 0.70301 |  0:00:03s\n",
      "epoch 19 | loss: 0.67345 | val_0_logloss: 0.70909 |  0:00:03s\n",
      "epoch 20 | loss: 0.67073 | val_0_logloss: 0.71669 |  0:00:03s\n",
      "epoch 21 | loss: 0.67433 | val_0_logloss: 0.725   |  0:00:03s\n",
      "epoch 22 | loss: 0.67716 | val_0_logloss: 0.72795 |  0:00:03s\n",
      "epoch 23 | loss: 0.67177 | val_0_logloss: 0.72052 |  0:00:03s\n",
      "epoch 24 | loss: 0.67229 | val_0_logloss: 0.71616 |  0:00:03s\n",
      "epoch 25 | loss: 0.66204 | val_0_logloss: 0.71509 |  0:00:03s\n",
      "epoch 26 | loss: 0.6698  | val_0_logloss: 0.71667 |  0:00:03s\n",
      "epoch 27 | loss: 0.66368 | val_0_logloss: 0.71677 |  0:00:04s\n",
      "epoch 28 | loss: 0.66894 | val_0_logloss: 0.71637 |  0:00:04s\n",
      "epoch 29 | loss: 0.66564 | val_0_logloss: 0.71971 |  0:00:04s\n",
      "epoch 30 | loss: 0.66042 | val_0_logloss: 0.7241  |  0:00:04s\n",
      "epoch 31 | loss: 0.66022 | val_0_logloss: 0.72778 |  0:00:04s\n",
      "epoch 32 | loss: 0.66231 | val_0_logloss: 0.72664 |  0:00:04s\n",
      "epoch 33 | loss: 0.65215 | val_0_logloss: 0.72552 |  0:00:04s\n",
      "epoch 34 | loss: 0.65816 | val_0_logloss: 0.7244  |  0:00:04s\n",
      "epoch 35 | loss: 0.65105 | val_0_logloss: 0.72698 |  0:00:04s\n",
      "epoch 36 | loss: 0.65524 | val_0_logloss: 0.72602 |  0:00:05s\n",
      "epoch 37 | loss: 0.65354 | val_0_logloss: 0.73151 |  0:00:05s\n",
      "epoch 38 | loss: 0.65253 | val_0_logloss: 0.72856 |  0:00:05s\n",
      "epoch 39 | loss: 0.65688 | val_0_logloss: 0.72639 |  0:00:05s\n",
      "epoch 40 | loss: 0.64779 | val_0_logloss: 0.72569 |  0:00:05s\n",
      "epoch 41 | loss: 0.64694 | val_0_logloss: 0.72769 |  0:00:05s\n",
      "epoch 42 | loss: 0.64916 | val_0_logloss: 0.73097 |  0:00:05s\n",
      "epoch 43 | loss: 0.65698 | val_0_logloss: 0.72942 |  0:00:05s\n",
      "epoch 44 | loss: 0.64126 | val_0_logloss: 0.73025 |  0:00:05s\n",
      "epoch 45 | loss: 0.6482  | val_0_logloss: 0.73528 |  0:00:06s\n",
      "epoch 46 | loss: 0.64257 | val_0_logloss: 0.74239 |  0:00:06s\n",
      "epoch 47 | loss: 0.64969 | val_0_logloss: 0.74504 |  0:00:06s\n",
      "epoch 48 | loss: 0.64295 | val_0_logloss: 0.7452  |  0:00:06s\n",
      "epoch 49 | loss: 0.6433  | val_0_logloss: 0.74592 |  0:00:06s\n",
      "epoch 50 | loss: 0.64027 | val_0_logloss: 0.74259 |  0:00:06s\n",
      "epoch 51 | loss: 0.63117 | val_0_logloss: 0.74821 |  0:00:06s\n",
      "epoch 52 | loss: 0.63069 | val_0_logloss: 0.74702 |  0:00:06s\n",
      "epoch 53 | loss: 0.63398 | val_0_logloss: 0.74716 |  0:00:06s\n",
      "epoch 54 | loss: 0.63468 | val_0_logloss: 0.73825 |  0:00:06s\n",
      "epoch 55 | loss: 0.61477 | val_0_logloss: 0.74045 |  0:00:07s\n",
      "epoch 56 | loss: 0.62323 | val_0_logloss: 0.75004 |  0:00:07s\n",
      "epoch 57 | loss: 0.61263 | val_0_logloss: 0.762   |  0:00:07s\n",
      "epoch 58 | loss: 0.61956 | val_0_logloss: 0.75255 |  0:00:07s\n",
      "epoch 59 | loss: 0.62529 | val_0_logloss: 0.74751 |  0:00:07s\n",
      "epoch 60 | loss: 0.62574 | val_0_logloss: 0.74162 |  0:00:07s\n",
      "epoch 61 | loss: 0.61736 | val_0_logloss: 0.74025 |  0:00:07s\n",
      "epoch 62 | loss: 0.61036 | val_0_logloss: 0.75005 |  0:00:07s\n",
      "epoch 63 | loss: 0.61434 | val_0_logloss: 0.75093 |  0:00:07s\n",
      "epoch 64 | loss: 0.61819 | val_0_logloss: 0.74958 |  0:00:07s\n",
      "epoch 65 | loss: 0.61601 | val_0_logloss: 0.75283 |  0:00:08s\n",
      "epoch 66 | loss: 0.61677 | val_0_logloss: 0.75334 |  0:00:08s\n",
      "epoch 67 | loss: 0.60642 | val_0_logloss: 0.73908 |  0:00:08s\n",
      "epoch 68 | loss: 0.62121 | val_0_logloss: 0.72524 |  0:00:08s\n",
      "epoch 69 | loss: 0.61295 | val_0_logloss: 0.72296 |  0:00:08s\n",
      "epoch 70 | loss: 0.61216 | val_0_logloss: 0.73188 |  0:00:08s\n",
      "epoch 71 | loss: 0.60513 | val_0_logloss: 0.75062 |  0:00:08s\n",
      "epoch 72 | loss: 0.59664 | val_0_logloss: 0.76768 |  0:00:08s\n",
      "epoch 73 | loss: 0.5956  | val_0_logloss: 0.76668 |  0:00:08s\n",
      "epoch 74 | loss: 0.58966 | val_0_logloss: 0.76099 |  0:00:08s\n",
      "epoch 75 | loss: 0.59085 | val_0_logloss: 0.7671  |  0:00:08s\n",
      "epoch 76 | loss: 0.59206 | val_0_logloss: 0.76229 |  0:00:09s\n",
      "epoch 77 | loss: 0.5868  | val_0_logloss: 0.77723 |  0:00:09s\n",
      "epoch 78 | loss: 0.59203 | val_0_logloss: 0.78425 |  0:00:09s\n",
      "epoch 79 | loss: 0.57928 | val_0_logloss: 0.80595 |  0:00:09s\n",
      "epoch 80 | loss: 0.59935 | val_0_logloss: 0.80088 |  0:00:09s\n",
      "epoch 81 | loss: 0.59138 | val_0_logloss: 0.78272 |  0:00:09s\n",
      "epoch 82 | loss: 0.59591 | val_0_logloss: 0.77679 |  0:00:09s\n",
      "epoch 83 | loss: 0.59302 | val_0_logloss: 0.77606 |  0:00:09s\n",
      "epoch 84 | loss: 0.59801 | val_0_logloss: 0.76594 |  0:00:09s\n",
      "epoch 85 | loss: 0.59005 | val_0_logloss: 0.75363 |  0:00:09s\n",
      "epoch 86 | loss: 0.58227 | val_0_logloss: 0.75415 |  0:00:10s\n",
      "epoch 87 | loss: 0.59153 | val_0_logloss: 0.77923 |  0:00:10s\n",
      "epoch 88 | loss: 0.57911 | val_0_logloss: 0.81915 |  0:00:10s\n",
      "epoch 89 | loss: 0.57634 | val_0_logloss: 0.8321  |  0:00:10s\n",
      "epoch 90 | loss: 0.57087 | val_0_logloss: 0.83508 |  0:00:10s\n",
      "epoch 91 | loss: 0.5788  | val_0_logloss: 0.83245 |  0:00:10s\n",
      "epoch 92 | loss: 0.58459 | val_0_logloss: 0.82366 |  0:00:10s\n",
      "epoch 93 | loss: 0.57438 | val_0_logloss: 0.83157 |  0:00:10s\n",
      "epoch 94 | loss: 0.58273 | val_0_logloss: 0.82359 |  0:00:10s\n",
      "epoch 95 | loss: 0.56879 | val_0_logloss: 0.82164 |  0:00:10s\n",
      "epoch 96 | loss: 0.57855 | val_0_logloss: 0.83404 |  0:00:11s\n",
      "epoch 97 | loss: 0.57616 | val_0_logloss: 0.81979 |  0:00:11s\n",
      "epoch 98 | loss: 0.57595 | val_0_logloss: 0.81349 |  0:00:11s\n",
      "epoch 99 | loss: 0.55271 | val_0_logloss: 0.82076 |  0:00:11s\n"
     ]
    }
   ],
   "source": [
    "model.fit(x_train, y_train, eval_set=[(x_valid, y_valid)], eval_metric=['logloss'], patience=0, batch_size=1024,\n",
    "        #   callbacks=[ModelCheckpoint(model, '.', 10)]\n",
    ")"
   ]
  },
  {
   "cell_type": "code",
   "execution_count": 4,
   "metadata": {},
   "outputs": [
    {
     "data": {
      "text/plain": [
       "[<matplotlib.lines.Line2D at 0x7f28bddb94c0>]"
      ]
     },
     "execution_count": 4,
     "metadata": {},
     "output_type": "execute_result"
    },
    {
     "data": {
      "image/png": "[encoded data removed]",
      "text/plain": [
       "<Figure size 640x480 with 1 Axes>"
      ]
     },
     "metadata": {},
     "output_type": "display_data"
    }
   ],
   "source": [
    "import matplotlib.pyplot as plt\n",
    "\n",
    "plt.plot(model.history['loss'])\n",
    "plt.plot(model.history['val_0_logloss'])"
   ]
  },
  {
   "cell_type": "code",
   "execution_count": 5,
   "metadata": {},
   "outputs": [],
   "source": [
    "from src import plots"
   ]
  },
  {
   "cell_type": "code",
   "execution_count": 6,
   "metadata": {},
   "outputs": [],
   "source": [
    "plots.loss_curves(model.history['loss'], model.history['val_0_logloss'], '.')"
   ]
  },
  {
   "cell_type": "code",
   "execution_count": 7,
   "metadata": {},
   "outputs": [
    {
     "data": {
      "text/plain": [
       "array([0, 1, 0, 1, 0, 1, 1, 0, 1, 1, 1, 1, 0, 0, 1, 1, 0, 1, 0, 0, 1, 1,\n",
       "       1, 1, 0, 1, 0, 1, 0, 1, 1, 0, 1, 0, 0, 1, 1, 1, 1, 1, 1, 1, 1, 0,\n",
       "       0, 0, 1, 0, 0, 0, 1, 1, 0, 0, 1, 1, 1, 1, 1, 1, 0, 1, 0, 0, 1, 1,\n",
       "       0, 1, 1, 1, 1, 1, 1, 1, 1, 0, 1, 0, 1, 0, 0, 1, 0, 1, 1, 0, 1, 1,\n",
       "       1, 0, 1, 0, 1, 1, 1, 1, 1, 1, 1, 1, 1, 0, 1, 0, 1, 1, 1, 1, 1, 1,\n",
       "       0, 0, 1, 0, 0, 1, 1, 1, 1, 1, 1, 1, 1, 1, 1, 1, 0, 0, 1, 1, 0, 0,\n",
       "       0, 1, 1, 1, 1, 1, 0, 0, 1, 1, 1, 1, 0, 1, 1, 1, 1, 0, 1, 1, 0, 1,\n",
       "       1, 1, 1, 0, 1, 1, 1, 1, 1, 1, 1, 0, 0, 1, 0, 1, 1, 0, 0, 1, 1, 1,\n",
       "       1, 1, 1, 1, 0, 1, 1, 1, 0, 1, 1, 1, 1, 1, 1, 0, 0, 1, 0, 0, 1, 0,\n",
       "       0, 0, 0, 0, 0, 0, 1, 0, 1, 1, 1, 1, 0, 1, 0, 1, 0, 1, 1, 1, 1, 1,\n",
       "       0, 0, 1, 0, 1, 0, 0, 0, 0, 1, 1, 1, 1, 1, 1, 0, 1, 1, 1, 1, 0, 0,\n",
       "       0, 0, 1, 1, 1, 0, 1, 0])"
      ]
     },
     "execution_count": 7,
     "metadata": {},
     "output_type": "execute_result"
    }
   ],
   "source": [
    "preds = model.predict(x_test)\n",
    "preds"
   ]
  },
  {
   "cell_type": "code",
   "execution_count": 8,
   "metadata": {},
   "outputs": [
    {
     "data": {
      "text/plain": [
       "array([0, 1, 0, 1, 0, 1, 1, 1, 1, 0, 0, 0, 1, 1, 0, 0, 1, 1, 0, 1, 1, 1,\n",
       "       0, 0, 1, 0, 0, 1, 1, 0, 1, 0, 0, 0, 0, 1, 0, 1, 0, 0, 1, 1, 1, 0,\n",
       "       1, 0, 0, 0, 1, 0, 1, 0, 1, 1, 0, 1, 1, 1, 0, 1, 1, 1, 1, 0, 0, 1,\n",
       "       1, 0, 0, 1, 0, 1, 1, 0, 0, 1, 1, 0, 0, 1, 1, 0, 0, 0, 0, 1, 1, 0,\n",
       "       1, 0, 0, 1, 0, 1, 1, 0, 1, 0, 0, 1, 1, 1, 0, 1, 1, 0, 1, 0, 1, 1,\n",
       "       1, 1, 1, 1, 0, 0, 0, 1, 0, 0, 1, 0, 1, 1, 1, 0, 0, 0, 1, 1, 1, 1,\n",
       "       0, 1, 1, 1, 0, 1, 1, 1, 0, 0, 1, 1, 0, 0, 0, 0, 1, 0, 0, 1, 0, 1,\n",
       "       0, 0, 0, 0, 1, 0, 1, 0, 1, 1, 1, 1, 0, 1, 0, 0, 0, 1, 1, 0, 1, 1,\n",
       "       0, 1, 0, 0, 0, 0, 1, 0, 1, 1, 0, 1, 0, 1, 0, 1, 1, 1, 1, 0, 0, 1,\n",
       "       0, 0, 0, 0, 0, 1, 0, 0, 0, 1, 1, 1, 1, 1, 1, 1, 1, 0, 1, 0, 1, 1,\n",
       "       1, 1, 1, 0, 1, 1, 0, 1, 0, 1, 1, 0, 0, 0, 1, 1, 1, 1, 1, 1, 0, 1,\n",
       "       1, 0, 1, 1, 1, 1, 1, 0])"
      ]
     },
     "execution_count": 8,
     "metadata": {},
     "output_type": "execute_result"
    }
   ],
   "source": [
    "y_test"
   ]
  },
  {
   "cell_type": "code",
   "execution_count": 11,
   "metadata": {},
   "outputs": [
    {
     "data": {
      "text/plain": [
       "array([0, 0, 0, 0, 0, 0, 0, 0, 0, 0, 0, 0, 0, 0, 0, 0, 0, 0, 0, 0, 0, 0,\n",
       "       0, 0, 0, 0, 0, 0, 0, 0, 0, 0, 0, 0, 0, 0, 0, 0, 0, 0, 0, 0, 0, 0,\n",
       "       0, 0, 0, 0, 0, 0, 0, 0, 0, 0, 0, 0, 0, 0, 0, 0, 0, 0, 0, 0, 0, 0,\n",
       "       0, 0, 0, 0, 0, 0, 0, 0, 0, 0, 0, 0, 0, 0, 0, 0, 0, 0, 0, 0, 0, 0,\n",
       "       0, 0, 0, 0, 0, 0, 0, 0, 0, 0, 0, 0, 0, 0, 0, 0, 0, 0, 0, 0, 0, 0,\n",
       "       0, 0, 0, 0, 0, 0, 0, 0, 0, 0, 0, 0, 0, 0, 0, 0, 0, 0, 0, 0, 0, 0,\n",
       "       0, 0, 0, 0, 0, 0, 0, 0, 0, 0, 0, 0, 0, 0, 0, 0, 0, 0, 0, 0, 0, 0,\n",
       "       0, 0, 0, 0, 0, 0, 0, 0, 0, 0, 0, 0, 0, 0, 0, 0, 0, 0, 0, 0, 0, 0,\n",
       "       0, 0, 0, 0, 0, 0, 0, 0, 0, 0, 0, 0, 0, 0, 0, 0, 0, 0, 0, 0, 0, 0,\n",
       "       0, 0, 0, 0, 0, 0, 0, 0, 0, 0, 0, 0, 0, 0, 0, 0, 0, 0, 0, 0, 0, 0,\n",
       "       0, 0, 0, 0, 0, 0, 0, 0, 0, 0, 0, 0, 0, 0, 0, 0, 0, 0, 0, 0, 0, 0,\n",
       "       0, 0, 0, 0, 0, 0, 0, 0])"
      ]
     },
     "execution_count": 11,
     "metadata": {},
     "output_type": "execute_result"
    }
   ],
   "source": [
    "import numpy as np\n",
    "np.zeros_like(y_test)"
   ]
  },
  {
   "cell_type": "code",
   "execution_count": 9,
   "metadata": {},
   "outputs": [
    {
     "ename": "ModuleNotFoundError",
     "evalue": "No module named 'plots'",
     "output_type": "error",
     "traceback": [
      "\u001b[0;31m---------------------------------------------------------------------------\u001b[0m",
      "\u001b[0;31mModuleNotFoundError\u001b[0m                       Traceback (most recent call last)",
      "Cell \u001b[0;32mIn[9], line 1\u001b[0m\n\u001b[0;32m----> 1\u001b[0m \u001b[38;5;28;01mfrom\u001b[39;00m \u001b[38;5;21;01msrc\u001b[39;00m\u001b[38;5;21;01m.\u001b[39;00m\u001b[38;5;21;01meval\u001b[39;00m \u001b[38;5;28;01mimport\u001b[39;00m calculate_stats\n",
      "File \u001b[0;32m~/master_siva/dizertatie/repo/src/eval.py:7\u001b[0m\n\u001b[1;32m      4\u001b[0m \u001b[38;5;28;01mimport\u001b[39;00m \u001b[38;5;21;01mtorch\u001b[39;00m\n\u001b[1;32m      5\u001b[0m \u001b[38;5;28;01mfrom\u001b[39;00m \u001b[38;5;21;01mtorch\u001b[39;00m\u001b[38;5;21;01m.\u001b[39;00m\u001b[38;5;21;01mutils\u001b[39;00m\u001b[38;5;21;01m.\u001b[39;00m\u001b[38;5;21;01mdata\u001b[39;00m \u001b[38;5;28;01mimport\u001b[39;00m DataLoader, TensorDataset\n\u001b[0;32m----> 7\u001b[0m \u001b[38;5;28;01mimport\u001b[39;00m \u001b[38;5;21;01mplots\u001b[39;00m\n\u001b[1;32m     10\u001b[0m device \u001b[38;5;241m=\u001b[39m torch\u001b[38;5;241m.\u001b[39mdevice(\u001b[38;5;124m\"\u001b[39m\u001b[38;5;124mcuda\u001b[39m\u001b[38;5;124m\"\u001b[39m \u001b[38;5;28;01mif\u001b[39;00m torch\u001b[38;5;241m.\u001b[39mcuda\u001b[38;5;241m.\u001b[39mis_available() \u001b[38;5;28;01melse\u001b[39;00m \u001b[38;5;124m\"\u001b[39m\u001b[38;5;124mcpu\u001b[39m\u001b[38;5;124m\"\u001b[39m)\n\u001b[1;32m     13\u001b[0m \u001b[38;5;28;01mdef\u001b[39;00m \u001b[38;5;21mcalculate_stats\u001b[39m(preds, y_test, model_path):\n",
      "\u001b[0;31mModuleNotFoundError\u001b[0m: No module named 'plots'"
     ]
    }
   ],
   "source": [
    "from src.eval import calculate_stats"
   ]
  },
  {
   "cell_type": "code",
   "execution_count": null,
   "metadata": {},
   "outputs": [],
   "source": [
    "calculate_stats(preds, y_test, '.')"
   ]
  },
  {
   "cell_type": "code",
   "execution_count": null,
   "metadata": {},
   "outputs": [],
   "source": []
  }
 ],
 "metadata": {
  "kernelspec": {
   "display_name": "venv",
   "language": "python",
   "name": "python3"
  },
  "language_info": {
   "codemirror_mode": {
    "name": "ipython",
    "version": 3
   },
   "file_extension": ".py",
   "mimetype": "text/x-python",
   "name": "python",
   "nbconvert_exporter": "python",
   "pygments_lexer": "ipython3",
   "version": "3.8.10"
  }
 },
 "nbformat": 4,
 "nbformat_minor": 2
}
